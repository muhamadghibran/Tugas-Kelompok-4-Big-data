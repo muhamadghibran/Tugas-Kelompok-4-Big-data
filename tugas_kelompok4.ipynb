{
  "cells": [
    {
      "cell_type": "code",
      "execution_count": 1,
      "metadata": {
        "colab": {
          "base_uri": "https://localhost:8080/"
        },
        "id": "3g1uxw68HftQ",
        "outputId": "bc1abe96-4d16-465f-f613-c672cbacb7da"
      },
      "outputs": [
        {
          "output_type": "stream",
          "name": "stdout",
          "text": [
            "Collecting pymongo\n",
            "  Downloading pymongo-4.11.3-cp311-cp311-manylinux_2_17_x86_64.manylinux2014_x86_64.whl.metadata (22 kB)\n",
            "Collecting dnspython<3.0.0,>=1.16.0 (from pymongo)\n",
            "  Downloading dnspython-2.7.0-py3-none-any.whl.metadata (5.8 kB)\n",
            "Downloading pymongo-4.11.3-cp311-cp311-manylinux_2_17_x86_64.manylinux2014_x86_64.whl (1.4 MB)\n",
            "\u001b[2K   \u001b[90m━━━━━━━━━━━━━━━━━━━━━━━━━━━━━━━━━━━━━━━━\u001b[0m \u001b[32m1.4/1.4 MB\u001b[0m \u001b[31m17.3 MB/s\u001b[0m eta \u001b[36m0:00:00\u001b[0m\n",
            "\u001b[?25hDownloading dnspython-2.7.0-py3-none-any.whl (313 kB)\n",
            "\u001b[2K   \u001b[90m━━━━━━━━━━━━━━━━━━━━━━━━━━━━━━━━━━━━━━━━\u001b[0m \u001b[32m313.6/313.6 kB\u001b[0m \u001b[31m18.3 MB/s\u001b[0m eta \u001b[36m0:00:00\u001b[0m\n",
            "\u001b[?25hInstalling collected packages: dnspython, pymongo\n",
            "Successfully installed dnspython-2.7.0 pymongo-4.11.3\n"
          ]
        }
      ],
      "source": [
        "!pip install pymongo"
      ]
    },
    {
      "cell_type": "code",
      "execution_count": 3,
      "metadata": {
        "colab": {
          "base_uri": "https://localhost:8080/"
        },
        "id": "yknfKHCbHftq",
        "outputId": "1678ca31-e426-4c22-8cba-70093abb1a9c"
      },
      "outputs": [
        {
          "output_type": "stream",
          "name": "stdout",
          "text": [
            "✅ Koneksi ke MongoDB berhasil!\n"
          ]
        }
      ],
      "source": [
        "import pymongo\n",
        "from pymongo.mongo_client import MongoClient\n",
        "\n",
        "CONNECTION_STRING = \"mongodb+srv://bigdata_ghibran:1@ghibranti23a.otb7w.mongodb.net/?retryWrites=true&w=majority&appName=ghibranti23a\"\n",
        "\n",
        "# Create a new client and connect to the server\n",
        "client = MongoClient(CONNECTION_STRING)\n",
        "\n",
        "# Send a ping to confirm a successful connection\n",
        "try:\n",
        "    client.admin.command('ping')\n",
        "    print(\"✅ Koneksi ke MongoDB berhasil!\")\n",
        "except Exception as e:\n",
        "    print(f\"❌ Gagal terhubung ke MongoDB: {e}\")"
      ]
    },
    {
      "cell_type": "code",
      "execution_count": 4,
      "metadata": {
        "id": "Ksg0h-ouHfty"
      },
      "outputs": [],
      "source": [
        "db = client[\"TokoOnline\"]\n",
        "\n",
        "# Pilih collection untuk katalog produk\n",
        "produk_collection = db[\"KatalogSepatu\"]"
      ]
    },
    {
      "cell_type": "code",
      "source": [
        "# Daftar produk sepatu dengan spesifikasi lengkap\n",
        "produk_list = [\n",
        "    {\"nama\": \"Nike Air Force 1\", \"kategori\": \"Sepatu\", \"harga\": 1500000, \"stok\": 10,\n",
        "     \"ukuran\": \"39,40,41,42,43\", \"warna\": \"Putih\", \"merek\": \"Nike\"},\n",
        "\n",
        "    {\"nama\": \"Adidas Ultraboost 22\", \"kategori\": \"Sepatu\", \"harga\": 1800000, \"stok\": 15,\n",
        "     \"ukuran\": \"38,39,40,41,42\", \"warna\": \"Hitam\", \"merek\": \"Adidas\"},\n",
        "\n",
        "    {\"nama\": \"Puma Future Rider\", \"kategori\": \"Sepatu\", \"harga\": 1200000, \"stok\": 8,\n",
        "     \"ukuran\": \"37,38,39,40,41\", \"warna\": \"Merah-Biru\", \"merek\": \"Puma\"},\n",
        "\n",
        "    {\"nama\": \"Vans Old Skool\", \"kategori\": \"Sepatu\", \"harga\": 900000, \"stok\": 20,\n",
        "     \"ukuran\": \"36,37,38,39,40\", \"warna\": \"Hitam-Putih\", \"merek\": \"Vans\"},\n",
        "\n",
        "    {\"nama\": \"Converse Chuck Taylor All Star\", \"kategori\": \"Sepatu\", \"harga\": 850000, \"stok\": 18,\n",
        "     \"ukuran\": \"35,36,37,38,39\", \"warna\": \"Putih\", \"merek\": \"Converse\"},\n",
        "]\n",
        "\n",
        "# Tambahkan ke database MongoDB\n",
        "produk_collection.insert_many(produk_list)\n",
        "\n",
        "print(\"✅ Produk berhasil ditambahkan!\")\n"
      ],
      "metadata": {
        "colab": {
          "base_uri": "https://localhost:8080/"
        },
        "id": "-hOoZbdsJ-Sd",
        "outputId": "afc4a9a5-b8cd-4df8-e1ed-3d2e5afbe6da"
      },
      "execution_count": 5,
      "outputs": [
        {
          "output_type": "stream",
          "name": "stdout",
          "text": [
            "✅ Produk berhasil ditambahkan!\n"
          ]
        }
      ]
    },
    {
      "cell_type": "code",
      "execution_count": 6,
      "metadata": {
        "colab": {
          "base_uri": "https://localhost:8080/"
        },
        "id": "ZLFZ3LlsHft1",
        "outputId": "d588aa75-5e16-4cc6-d409-03a94137e545"
      },
      "outputs": [
        {
          "output_type": "stream",
          "name": "stdout",
          "text": [
            "{'_id': ObjectId('67d5884b9cd63abde345e38a'), 'nama': 'Vans', 'harga': 350000, 'kategori': 'Sepatu', 'stok': 13}\n",
            "{'_id': ObjectId('67d588d69cd63abde345e38c'), 'nama': 'Sepatu kaca', 'harga': 21, 'kategori': 'Sepatu', 'stok': 10}\n",
            "{'_id': ObjectId('67d9b47f6a597d371e179d27'), 'nama': 'Nike Air Force 1', 'kategori': 'Sepatu', 'harga': 1500000, 'stok': 10, 'ukuran': '39,40,41,42,43', 'warna': 'Putih', 'merek': 'Nike'}\n",
            "{'_id': ObjectId('67d9b47f6a597d371e179d28'), 'nama': 'Adidas Ultraboost 22', 'kategori': 'Sepatu', 'harga': 1800000, 'stok': 15, 'ukuran': '38,39,40,41,42', 'warna': 'Hitam', 'merek': 'Adidas'}\n",
            "{'_id': ObjectId('67d9b47f6a597d371e179d29'), 'nama': 'Puma Future Rider', 'kategori': 'Sepatu', 'harga': 1200000, 'stok': 8, 'ukuran': '37,38,39,40,41', 'warna': 'Merah-Biru', 'merek': 'Puma'}\n",
            "{'_id': ObjectId('67d9b47f6a597d371e179d2a'), 'nama': 'Vans Old Skool', 'kategori': 'Sepatu', 'harga': 900000, 'stok': 20, 'ukuran': '36,37,38,39,40', 'warna': 'Hitam-Putih', 'merek': 'Vans'}\n",
            "{'_id': ObjectId('67d9b47f6a597d371e179d2b'), 'nama': 'Converse Chuck Taylor All Star', 'kategori': 'Sepatu', 'harga': 850000, 'stok': 18, 'ukuran': '35,36,37,38,39', 'warna': 'Putih', 'merek': 'Converse'}\n"
          ]
        }
      ],
      "source": [
        "for produk in produk_collection.find({\"kategori\": \"Sepatu\"}):\n",
        "    print(produk)\n"
      ]
    }
  ],
  "metadata": {
    "kernelspec": {
      "display_name": "base",
      "language": "python",
      "name": "python3"
    },
    "language_info": {
      "codemirror_mode": {
        "name": "ipython",
        "version": 3
      },
      "file_extension": ".py",
      "mimetype": "text/x-python",
      "name": "python",
      "nbconvert_exporter": "python",
      "pygments_lexer": "ipython3",
      "version": "3.11.7"
    },
    "colab": {
      "provenance": []
    }
  },
  "nbformat": 4,
  "nbformat_minor": 0
}